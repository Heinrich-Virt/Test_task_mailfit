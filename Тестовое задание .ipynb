{
 "cells": [
  {
   "cell_type": "markdown",
   "id": "22345723",
   "metadata": {},
   "source": [
    "## Тестовое задание на позицию \"Аналитик (Junior)\" компании Mailfit"
   ]
  },
  {
   "cell_type": "markdown",
   "id": "61bfddf1",
   "metadata": {},
   "source": [
    "### Задание\n",
    "\n",
    "- [x] Динамика open rate\n",
    "- [x] Динамика click to open rate\n",
    "- [x] Динамика conversion rate\n",
    "- [x] Динамика AOV\n",
    "- [x] Топ лучших тем по open rate\n",
    "- [x] Лучший день недели для оптравки писем\n",
    "- [x] Динамика оттока базы"
   ]
  },
  {
   "cell_type": "markdown",
   "id": "9cc76b15",
   "metadata": {},
   "source": [
    "## Импорт библиотек и ознакомление с данными"
   ]
  },
  {
   "cell_type": "code",
   "execution_count": 755,
   "id": "a97d4b80",
   "metadata": {},
   "outputs": [],
   "source": [
    "import pandas as pd\n",
    "import seaborn as sns\n",
    "import matplotlib.pyplot as plt\n",
    "import numpy as np"
   ]
  },
  {
   "cell_type": "code",
   "execution_count": 756,
   "id": "e1c70769",
   "metadata": {},
   "outputs": [],
   "source": [
    "df1 = pd.read_csv(r'C:\\Users\\EGO\\Downloads\\Mailfit — Тестовое задание на позицию аналитика - data 1_1.csv')"
   ]
  },
  {
   "cell_type": "code",
   "execution_count": 757,
   "id": "69172636",
   "metadata": {},
   "outputs": [],
   "source": [
    "df2 = pd.read_csv(r'C:\\Users\\EGO\\Downloads\\Mailfit — Тестовое задание на позицию аналитика - data 1_2.csv')"
   ]
  },
  {
   "cell_type": "code",
   "execution_count": 758,
   "id": "6fbaf894",
   "metadata": {},
   "outputs": [],
   "source": [
    "df = df1.merge(df2, how = 'left', left_on = 'Тема письма', right_on = 'Тема письма')"
   ]
  },
  {
   "cell_type": "code",
   "execution_count": 759,
   "id": "58022e62",
   "metadata": {},
   "outputs": [
    {
     "data": {
      "text/html": [
       "<div>\n",
       "<style scoped>\n",
       "    .dataframe tbody tr th:only-of-type {\n",
       "        vertical-align: middle;\n",
       "    }\n",
       "\n",
       "    .dataframe tbody tr th {\n",
       "        vertical-align: top;\n",
       "    }\n",
       "\n",
       "    .dataframe thead th {\n",
       "        text-align: right;\n",
       "    }\n",
       "</style>\n",
       "<table border=\"1\" class=\"dataframe\">\n",
       "  <thead>\n",
       "    <tr style=\"text-align: right;\">\n",
       "      <th></th>\n",
       "      <th>Тема письма</th>\n",
       "      <th>Сегмент</th>\n",
       "      <th>Дата рассылки</th>\n",
       "      <th>Время отправки</th>\n",
       "      <th>Отправлено писем</th>\n",
       "      <th>Отписки</th>\n",
       "      <th>Доставлено</th>\n",
       "      <th>Открытий</th>\n",
       "      <th>Заказы</th>\n",
       "      <th>Доход</th>\n",
       "      <th>Кликов</th>\n",
       "    </tr>\n",
       "  </thead>\n",
       "  <tbody>\n",
       "    <tr>\n",
       "      <th>0</th>\n",
       "      <td>Тема1</td>\n",
       "      <td>Сегмент1</td>\n",
       "      <td>04.06.2021</td>\n",
       "      <td>15:00:00</td>\n",
       "      <td>561114</td>\n",
       "      <td>440</td>\n",
       "      <td>560873</td>\n",
       "      <td>70321</td>\n",
       "      <td>75</td>\n",
       "      <td>7613776</td>\n",
       "      <td>2274</td>\n",
       "    </tr>\n",
       "    <tr>\n",
       "      <th>1</th>\n",
       "      <td>Тема2</td>\n",
       "      <td>Сегмент1</td>\n",
       "      <td>07.06.2021</td>\n",
       "      <td>17:22:00</td>\n",
       "      <td>557128</td>\n",
       "      <td>476</td>\n",
       "      <td>556910</td>\n",
       "      <td>88384</td>\n",
       "      <td>209</td>\n",
       "      <td>6907996</td>\n",
       "      <td>4549</td>\n",
       "    </tr>\n",
       "    <tr>\n",
       "      <th>2</th>\n",
       "      <td>Тема3</td>\n",
       "      <td>Сегмент1</td>\n",
       "      <td>11.06.2021</td>\n",
       "      <td>16:00:00</td>\n",
       "      <td>555455</td>\n",
       "      <td>504</td>\n",
       "      <td>555214</td>\n",
       "      <td>70835</td>\n",
       "      <td>70</td>\n",
       "      <td>3558583</td>\n",
       "      <td>1709</td>\n",
       "    </tr>\n",
       "    <tr>\n",
       "      <th>3</th>\n",
       "      <td>Тема4</td>\n",
       "      <td>Сегмент2</td>\n",
       "      <td>14.06.2021</td>\n",
       "      <td>15:00:00</td>\n",
       "      <td>554383</td>\n",
       "      <td>509</td>\n",
       "      <td>554144</td>\n",
       "      <td>74813</td>\n",
       "      <td>75</td>\n",
       "      <td>6207904</td>\n",
       "      <td>2136</td>\n",
       "    </tr>\n",
       "    <tr>\n",
       "      <th>4</th>\n",
       "      <td>Тема5</td>\n",
       "      <td>Сегмент1</td>\n",
       "      <td>18.06.2021</td>\n",
       "      <td>16:00:00</td>\n",
       "      <td>552486</td>\n",
       "      <td>435</td>\n",
       "      <td>552281</td>\n",
       "      <td>71378</td>\n",
       "      <td>52</td>\n",
       "      <td>6905844</td>\n",
       "      <td>1635</td>\n",
       "    </tr>\n",
       "    <tr>\n",
       "      <th>5</th>\n",
       "      <td>Тема6</td>\n",
       "      <td>Сегмент1</td>\n",
       "      <td>21.06.2021</td>\n",
       "      <td>15:00:00</td>\n",
       "      <td>551496</td>\n",
       "      <td>507</td>\n",
       "      <td>551292</td>\n",
       "      <td>71855</td>\n",
       "      <td>117</td>\n",
       "      <td>5699744</td>\n",
       "      <td>2541</td>\n",
       "    </tr>\n",
       "    <tr>\n",
       "      <th>6</th>\n",
       "      <td>Тема7</td>\n",
       "      <td>Сегмент1</td>\n",
       "      <td>25.06.2021</td>\n",
       "      <td>16:00:00</td>\n",
       "      <td>549503</td>\n",
       "      <td>435</td>\n",
       "      <td>549293</td>\n",
       "      <td>73590</td>\n",
       "      <td>106</td>\n",
       "      <td>7715260</td>\n",
       "      <td>2300</td>\n",
       "    </tr>\n",
       "    <tr>\n",
       "      <th>7</th>\n",
       "      <td>Тема8</td>\n",
       "      <td>Сегмент1</td>\n",
       "      <td>28.06.2021</td>\n",
       "      <td>18:26:00</td>\n",
       "      <td>548189</td>\n",
       "      <td>512</td>\n",
       "      <td>548337</td>\n",
       "      <td>71527</td>\n",
       "      <td>113</td>\n",
       "      <td>6907996</td>\n",
       "      <td>1913</td>\n",
       "    </tr>\n",
       "    <tr>\n",
       "      <th>8</th>\n",
       "      <td>Тема9</td>\n",
       "      <td>Сегмент1</td>\n",
       "      <td>02.07.2021</td>\n",
       "      <td>16:00:00</td>\n",
       "      <td>469817</td>\n",
       "      <td>420</td>\n",
       "      <td>469504</td>\n",
       "      <td>73489</td>\n",
       "      <td>103</td>\n",
       "      <td>5255639</td>\n",
       "      <td>2338</td>\n",
       "    </tr>\n",
       "    <tr>\n",
       "      <th>9</th>\n",
       "      <td>Тема10</td>\n",
       "      <td>Сегмент1</td>\n",
       "      <td>05.07.2021</td>\n",
       "      <td>17:28:00</td>\n",
       "      <td>544211</td>\n",
       "      <td>490</td>\n",
       "      <td>544018</td>\n",
       "      <td>74668</td>\n",
       "      <td>127</td>\n",
       "      <td>5588178</td>\n",
       "      <td>2225</td>\n",
       "    </tr>\n",
       "  </tbody>\n",
       "</table>\n",
       "</div>"
      ],
      "text/plain": [
       "  Тема письма   Сегмент Дата рассылки Время отправки  Отправлено писем  \\\n",
       "0       Тема1  Сегмент1    04.06.2021       15:00:00            561114   \n",
       "1       Тема2  Сегмент1    07.06.2021       17:22:00            557128   \n",
       "2       Тема3  Сегмент1    11.06.2021       16:00:00            555455   \n",
       "3       Тема4  Сегмент2    14.06.2021       15:00:00            554383   \n",
       "4       Тема5  Сегмент1    18.06.2021       16:00:00            552486   \n",
       "5       Тема6  Сегмент1    21.06.2021       15:00:00            551496   \n",
       "6       Тема7  Сегмент1    25.06.2021       16:00:00            549503   \n",
       "7       Тема8  Сегмент1    28.06.2021       18:26:00            548189   \n",
       "8       Тема9  Сегмент1    02.07.2021       16:00:00            469817   \n",
       "9      Тема10  Сегмент1    05.07.2021       17:28:00            544211   \n",
       "\n",
       "   Отписки  Доставлено  Открытий  Заказы   Доход   Кликов  \n",
       "0      440      560873     70321      75  7613776    2274  \n",
       "1      476      556910     88384     209  6907996    4549  \n",
       "2      504      555214     70835      70  3558583    1709  \n",
       "3      509      554144     74813      75  6207904    2136  \n",
       "4      435      552281     71378      52  6905844    1635  \n",
       "5      507      551292     71855     117  5699744    2541  \n",
       "6      435      549293     73590     106  7715260    2300  \n",
       "7      512      548337     71527     113  6907996    1913  \n",
       "8      420      469504     73489     103  5255639    2338  \n",
       "9      490      544018     74668     127  5588178    2225  "
      ]
     },
     "metadata": {},
     "output_type": "display_data"
    }
   ],
   "source": [
    "display(df.head(10))"
   ]
  },
  {
   "cell_type": "code",
   "execution_count": 760,
   "id": "33589a48",
   "metadata": {},
   "outputs": [
    {
     "name": "stdout",
     "output_type": "stream",
     "text": [
      "<class 'pandas.core.frame.DataFrame'>\n",
      "Int64Index: 42 entries, 0 to 41\n",
      "Data columns (total 11 columns):\n",
      " #   Column            Non-Null Count  Dtype \n",
      "---  ------            --------------  ----- \n",
      " 0   Тема письма       42 non-null     object\n",
      " 1   Сегмент           42 non-null     object\n",
      " 2   Дата рассылки     42 non-null     object\n",
      " 3   Время отправки    42 non-null     object\n",
      " 4   Отправлено писем  42 non-null     int64 \n",
      " 5   Отписки           42 non-null     int64 \n",
      " 6   Доставлено        42 non-null     int64 \n",
      " 7   Открытий          42 non-null     int64 \n",
      " 8   Заказы            42 non-null     int64 \n",
      " 9   Доход             42 non-null     int64 \n",
      " 10  Кликов            42 non-null     int64 \n",
      "dtypes: int64(7), object(4)\n",
      "memory usage: 3.9+ KB\n"
     ]
    }
   ],
   "source": [
    "df.info()"
   ]
  },
  {
   "cell_type": "markdown",
   "id": "c3d85a08",
   "metadata": {},
   "source": [
    "### Преобразоваение в форомат даты"
   ]
  },
  {
   "cell_type": "code",
   "execution_count": 761,
   "id": "3acdb206",
   "metadata": {},
   "outputs": [],
   "source": [
    "df['Дата рассылки'] = pd.to_datetime(df['Дата рассылки'], format = \"%d.%m.%Y\")"
   ]
  },
  {
   "cell_type": "markdown",
   "id": "f886b09d",
   "metadata": {},
   "source": [
    "## Динамика open rate"
   ]
  },
  {
   "cell_type": "markdown",
   "id": "89578d09",
   "metadata": {},
   "source": [
    "### Расчет"
   ]
  },
  {
   "cell_type": "code",
   "execution_count": 762,
   "id": "c117dc75",
   "metadata": {},
   "outputs": [],
   "source": [
    "df['open_rate'] = round(df['Открытий'] / df['Доставлено'] * 100,2)"
   ]
  },
  {
   "cell_type": "markdown",
   "id": "8f8908de",
   "metadata": {},
   "source": [
    "### Добавим отдельно столбец с номером месяца"
   ]
  },
  {
   "cell_type": "code",
   "execution_count": 763,
   "id": "2aa306fb",
   "metadata": {},
   "outputs": [],
   "source": [
    "df['month'] = df['Дата рассылки'].dt.month"
   ]
  },
  {
   "cell_type": "markdown",
   "id": "ae7e78f7",
   "metadata": {},
   "source": [
    "### Добавим отдельный столбец с днём недели"
   ]
  },
  {
   "cell_type": "code",
   "execution_count": 764,
   "id": "34904250",
   "metadata": {},
   "outputs": [],
   "source": [
    "df['day_of_week'] = df['Дата рассылки'].dt.day_name()"
   ]
  },
  {
   "cell_type": "code",
   "execution_count": 765,
   "id": "b93de1dd",
   "metadata": {},
   "outputs": [
    {
     "data": {
      "text/html": [
       "<div>\n",
       "<style scoped>\n",
       "    .dataframe tbody tr th:only-of-type {\n",
       "        vertical-align: middle;\n",
       "    }\n",
       "\n",
       "    .dataframe tbody tr th {\n",
       "        vertical-align: top;\n",
       "    }\n",
       "\n",
       "    .dataframe thead th {\n",
       "        text-align: right;\n",
       "    }\n",
       "</style>\n",
       "<table border=\"1\" class=\"dataframe\">\n",
       "  <thead>\n",
       "    <tr style=\"text-align: right;\">\n",
       "      <th></th>\n",
       "      <th>Тема письма</th>\n",
       "      <th>Сегмент</th>\n",
       "      <th>Дата рассылки</th>\n",
       "      <th>Время отправки</th>\n",
       "      <th>Отправлено писем</th>\n",
       "      <th>Отписки</th>\n",
       "      <th>Доставлено</th>\n",
       "      <th>Открытий</th>\n",
       "      <th>Заказы</th>\n",
       "      <th>Доход</th>\n",
       "      <th>Кликов</th>\n",
       "      <th>open_rate</th>\n",
       "      <th>month</th>\n",
       "      <th>day_of_week</th>\n",
       "    </tr>\n",
       "  </thead>\n",
       "  <tbody>\n",
       "    <tr>\n",
       "      <th>0</th>\n",
       "      <td>Тема1</td>\n",
       "      <td>Сегмент1</td>\n",
       "      <td>2021-06-04</td>\n",
       "      <td>15:00:00</td>\n",
       "      <td>561114</td>\n",
       "      <td>440</td>\n",
       "      <td>560873</td>\n",
       "      <td>70321</td>\n",
       "      <td>75</td>\n",
       "      <td>7613776</td>\n",
       "      <td>2274</td>\n",
       "      <td>12.54</td>\n",
       "      <td>6</td>\n",
       "      <td>Friday</td>\n",
       "    </tr>\n",
       "    <tr>\n",
       "      <th>1</th>\n",
       "      <td>Тема2</td>\n",
       "      <td>Сегмент1</td>\n",
       "      <td>2021-06-07</td>\n",
       "      <td>17:22:00</td>\n",
       "      <td>557128</td>\n",
       "      <td>476</td>\n",
       "      <td>556910</td>\n",
       "      <td>88384</td>\n",
       "      <td>209</td>\n",
       "      <td>6907996</td>\n",
       "      <td>4549</td>\n",
       "      <td>15.87</td>\n",
       "      <td>6</td>\n",
       "      <td>Monday</td>\n",
       "    </tr>\n",
       "    <tr>\n",
       "      <th>2</th>\n",
       "      <td>Тема3</td>\n",
       "      <td>Сегмент1</td>\n",
       "      <td>2021-06-11</td>\n",
       "      <td>16:00:00</td>\n",
       "      <td>555455</td>\n",
       "      <td>504</td>\n",
       "      <td>555214</td>\n",
       "      <td>70835</td>\n",
       "      <td>70</td>\n",
       "      <td>3558583</td>\n",
       "      <td>1709</td>\n",
       "      <td>12.76</td>\n",
       "      <td>6</td>\n",
       "      <td>Friday</td>\n",
       "    </tr>\n",
       "    <tr>\n",
       "      <th>3</th>\n",
       "      <td>Тема4</td>\n",
       "      <td>Сегмент2</td>\n",
       "      <td>2021-06-14</td>\n",
       "      <td>15:00:00</td>\n",
       "      <td>554383</td>\n",
       "      <td>509</td>\n",
       "      <td>554144</td>\n",
       "      <td>74813</td>\n",
       "      <td>75</td>\n",
       "      <td>6207904</td>\n",
       "      <td>2136</td>\n",
       "      <td>13.50</td>\n",
       "      <td>6</td>\n",
       "      <td>Monday</td>\n",
       "    </tr>\n",
       "    <tr>\n",
       "      <th>4</th>\n",
       "      <td>Тема5</td>\n",
       "      <td>Сегмент1</td>\n",
       "      <td>2021-06-18</td>\n",
       "      <td>16:00:00</td>\n",
       "      <td>552486</td>\n",
       "      <td>435</td>\n",
       "      <td>552281</td>\n",
       "      <td>71378</td>\n",
       "      <td>52</td>\n",
       "      <td>6905844</td>\n",
       "      <td>1635</td>\n",
       "      <td>12.92</td>\n",
       "      <td>6</td>\n",
       "      <td>Friday</td>\n",
       "    </tr>\n",
       "  </tbody>\n",
       "</table>\n",
       "</div>"
      ],
      "text/plain": [
       "  Тема письма   Сегмент Дата рассылки Время отправки  Отправлено писем  \\\n",
       "0       Тема1  Сегмент1    2021-06-04       15:00:00            561114   \n",
       "1       Тема2  Сегмент1    2021-06-07       17:22:00            557128   \n",
       "2       Тема3  Сегмент1    2021-06-11       16:00:00            555455   \n",
       "3       Тема4  Сегмент2    2021-06-14       15:00:00            554383   \n",
       "4       Тема5  Сегмент1    2021-06-18       16:00:00            552486   \n",
       "\n",
       "   Отписки  Доставлено  Открытий  Заказы   Доход   Кликов  open_rate  month  \\\n",
       "0      440      560873     70321      75  7613776    2274      12.54      6   \n",
       "1      476      556910     88384     209  6907996    4549      15.87      6   \n",
       "2      504      555214     70835      70  3558583    1709      12.76      6   \n",
       "3      509      554144     74813      75  6207904    2136      13.50      6   \n",
       "4      435      552281     71378      52  6905844    1635      12.92      6   \n",
       "\n",
       "  day_of_week  \n",
       "0      Friday  \n",
       "1      Monday  \n",
       "2      Friday  \n",
       "3      Monday  \n",
       "4      Friday  "
      ]
     },
     "execution_count": 765,
     "metadata": {},
     "output_type": "execute_result"
    }
   ],
   "source": [
    "df.head()"
   ]
  },
  {
   "cell_type": "markdown",
   "id": "53f58e7b",
   "metadata": {},
   "source": [
    "### Среднее значение и количество отправлений в месяц"
   ]
  },
  {
   "cell_type": "code",
   "execution_count": 766,
   "id": "6b1c0ae0",
   "metadata": {},
   "outputs": [],
   "source": [
    "_ = pd.pivot_table(df,\n",
    "               index='month',\n",
    "               values='open_rate',\n",
    "                aggfunc ={'mean', 'count', 'std'})"
   ]
  },
  {
   "cell_type": "code",
   "execution_count": 767,
   "id": "89b8d2fd",
   "metadata": {},
   "outputs": [
    {
     "data": {
      "text/html": [
       "<div>\n",
       "<style scoped>\n",
       "    .dataframe tbody tr th:only-of-type {\n",
       "        vertical-align: middle;\n",
       "    }\n",
       "\n",
       "    .dataframe tbody tr th {\n",
       "        vertical-align: top;\n",
       "    }\n",
       "\n",
       "    .dataframe thead th {\n",
       "        text-align: right;\n",
       "    }\n",
       "</style>\n",
       "<table border=\"1\" class=\"dataframe\">\n",
       "  <thead>\n",
       "    <tr style=\"text-align: right;\">\n",
       "      <th></th>\n",
       "      <th>count</th>\n",
       "      <th>mean</th>\n",
       "      <th>std</th>\n",
       "    </tr>\n",
       "    <tr>\n",
       "      <th>month</th>\n",
       "      <th></th>\n",
       "      <th></th>\n",
       "      <th></th>\n",
       "    </tr>\n",
       "  </thead>\n",
       "  <tbody>\n",
       "    <tr>\n",
       "      <th>6</th>\n",
       "      <td>8</td>\n",
       "      <td>13.3825</td>\n",
       "      <td>1.052517</td>\n",
       "    </tr>\n",
       "    <tr>\n",
       "      <th>7</th>\n",
       "      <td>9</td>\n",
       "      <td>13.5500</td>\n",
       "      <td>1.026475</td>\n",
       "    </tr>\n",
       "    <tr>\n",
       "      <th>8</th>\n",
       "      <td>9</td>\n",
       "      <td>13.7400</td>\n",
       "      <td>0.479375</td>\n",
       "    </tr>\n",
       "    <tr>\n",
       "      <th>9</th>\n",
       "      <td>8</td>\n",
       "      <td>15.3825</td>\n",
       "      <td>0.757057</td>\n",
       "    </tr>\n",
       "    <tr>\n",
       "      <th>10</th>\n",
       "      <td>8</td>\n",
       "      <td>16.9575</td>\n",
       "      <td>0.501960</td>\n",
       "    </tr>\n",
       "  </tbody>\n",
       "</table>\n",
       "</div>"
      ],
      "text/plain": [
       "       count     mean       std\n",
       "month                          \n",
       "6          8  13.3825  1.052517\n",
       "7          9  13.5500  1.026475\n",
       "8          9  13.7400  0.479375\n",
       "9          8  15.3825  0.757057\n",
       "10         8  16.9575  0.501960"
      ]
     },
     "execution_count": 767,
     "metadata": {},
     "output_type": "execute_result"
    }
   ],
   "source": [
    "_"
   ]
  },
  {
   "cell_type": "code",
   "execution_count": 768,
   "id": "917cc3af",
   "metadata": {},
   "outputs": [
    {
     "data": {
      "text/plain": [
       "count     8.67\n",
       "mean     13.56\n",
       "std       0.85\n",
       "dtype: float64"
      ]
     },
     "execution_count": 768,
     "metadata": {},
     "output_type": "execute_result"
    }
   ],
   "source": [
    "round(_.head(3).mean(),2)"
   ]
  },
  {
   "cell_type": "markdown",
   "id": "87e1ede8",
   "metadata": {},
   "source": [
    "### График open_rate"
   ]
  },
  {
   "cell_type": "code",
   "execution_count": 769,
   "id": "2c7079b3",
   "metadata": {},
   "outputs": [
    {
     "data": {
      "image/png": "[encoded data removed]",
      "text/plain": [
       "<Figure size 720x360 with 1 Axes>"
      ]
     },
     "metadata": {
      "needs_background": "light"
     },
     "output_type": "display_data"
    }
   ],
   "source": [
    "plt.subplots(figsize=(10, 5))\n",
    "plt.plot (df['Дата рассылки'], df['open_rate'], '-ro')\n",
    "plt.title(\"Динамика open rate\")\n",
    "plt.xlabel(\"Дата\")\n",
    "plt.ylabel(\"open rate, %\")\n",
    "plt.show()"
   ]
  },
  {
   "cell_type": "code",
   "execution_count": 770,
   "id": "d2c168aa",
   "metadata": {},
   "outputs": [
    {
     "data": {
      "image/png": "[encoded data removed]",
      "text/plain": [
       "<Figure size 720x360 with 1 Axes>"
      ]
     },
     "metadata": {
      "needs_background": "light"
     },
     "output_type": "display_data"
    }
   ],
   "source": [
    "plt.subplots(figsize=(10, 5))\n",
    "plt.plot (['6','7','8','9','10'], list(_['mean']), '-ro')\n",
    "plt.title(\"Динамика open rate по месяцам\")\n",
    "plt.xlabel(\"Дата\")\n",
    "plt.ylabel(\"open rate, %\")\n",
    "plt.show()"
   ]
  },
  {
   "cell_type": "markdown",
   "id": "8a32808c",
   "metadata": {},
   "source": [
    "### Время рассылки"
   ]
  },
  {
   "cell_type": "code",
   "execution_count": 771,
   "id": "6f150fae",
   "metadata": {},
   "outputs": [
    {
     "data": {
      "image/png": "[encoded data removed]",
      "text/plain": [
       "<Figure size 720x360 with 1 Axes>"
      ]
     },
     "metadata": {
      "needs_background": "light"
     },
     "output_type": "display_data"
    }
   ],
   "source": [
    "plt.subplots(figsize=(10, 5))\n",
    "plt.hist(df['Время отправки'], edgecolor = 'black')\n",
    "plt.title(\"Гистограмма распределения времени отправки\")\n",
    "plt.xlabel(\"Время\")\n",
    "plt.ylabel(\"Количество отправлений\")\n",
    "plt.show()"
   ]
  },
  {
   "cell_type": "markdown",
   "id": "016643b7",
   "metadata": {},
   "source": [
    "### Вывод "
   ]
  },
  {
   "cell_type": "markdown",
   "id": "3523c554",
   "metadata": {},
   "source": [
    "Количество рассылок является почти одинаковым. Отправления происходят почти в одно и тоже время.\n",
    "\n",
    "Начиная с **09.2021** наблюдается существенное улучшение показателя (open rate), хотя значение все равно остается существенно меньше, чем в среднем по отраслям ($\\approx$ 24 %).\n",
    "\n",
    "- **13.56 %** (среднее значение 06.2021 - 08.2021) до **15.38 %** в сентябре. **Увеличение** показателя составило **1.82 %**.\n",
    "- **15.38 %** до **16.96 %** в октябре. **Увеличение** показателя составило **1.58 %** по сравнению с сентябрем и 3.4 % по сравнению с летними месяцами.\n",
    "\n",
    "По предложенным данным сказать причину не представляется возможным."
   ]
  },
  {
   "cell_type": "markdown",
   "id": "b39cd01e",
   "metadata": {},
   "source": [
    "## Динамика click to open rate"
   ]
  },
  {
   "cell_type": "markdown",
   "id": "0348ae38",
   "metadata": {},
   "source": [
    "### Расчет"
   ]
  },
  {
   "cell_type": "code",
   "execution_count": 772,
   "id": "8fd7147f",
   "metadata": {},
   "outputs": [],
   "source": [
    "df['CTOR'] = round(df['Кликов'] / df['Открытий'] * 100,2)"
   ]
  },
  {
   "cell_type": "code",
   "execution_count": 773,
   "id": "71c1c22f",
   "metadata": {},
   "outputs": [
    {
     "data": {
      "text/html": [
       "<div>\n",
       "<style scoped>\n",
       "    .dataframe tbody tr th:only-of-type {\n",
       "        vertical-align: middle;\n",
       "    }\n",
       "\n",
       "    .dataframe tbody tr th {\n",
       "        vertical-align: top;\n",
       "    }\n",
       "\n",
       "    .dataframe thead th {\n",
       "        text-align: right;\n",
       "    }\n",
       "</style>\n",
       "<table border=\"1\" class=\"dataframe\">\n",
       "  <thead>\n",
       "    <tr style=\"text-align: right;\">\n",
       "      <th></th>\n",
       "      <th>Тема письма</th>\n",
       "      <th>Сегмент</th>\n",
       "      <th>Дата рассылки</th>\n",
       "      <th>Время отправки</th>\n",
       "      <th>Отправлено писем</th>\n",
       "      <th>Отписки</th>\n",
       "      <th>Доставлено</th>\n",
       "      <th>Открытий</th>\n",
       "      <th>Заказы</th>\n",
       "      <th>Доход</th>\n",
       "      <th>Кликов</th>\n",
       "      <th>open_rate</th>\n",
       "      <th>month</th>\n",
       "      <th>day_of_week</th>\n",
       "      <th>CTOR</th>\n",
       "    </tr>\n",
       "  </thead>\n",
       "  <tbody>\n",
       "    <tr>\n",
       "      <th>0</th>\n",
       "      <td>Тема1</td>\n",
       "      <td>Сегмент1</td>\n",
       "      <td>2021-06-04</td>\n",
       "      <td>15:00:00</td>\n",
       "      <td>561114</td>\n",
       "      <td>440</td>\n",
       "      <td>560873</td>\n",
       "      <td>70321</td>\n",
       "      <td>75</td>\n",
       "      <td>7613776</td>\n",
       "      <td>2274</td>\n",
       "      <td>12.54</td>\n",
       "      <td>6</td>\n",
       "      <td>Friday</td>\n",
       "      <td>3.23</td>\n",
       "    </tr>\n",
       "    <tr>\n",
       "      <th>1</th>\n",
       "      <td>Тема2</td>\n",
       "      <td>Сегмент1</td>\n",
       "      <td>2021-06-07</td>\n",
       "      <td>17:22:00</td>\n",
       "      <td>557128</td>\n",
       "      <td>476</td>\n",
       "      <td>556910</td>\n",
       "      <td>88384</td>\n",
       "      <td>209</td>\n",
       "      <td>6907996</td>\n",
       "      <td>4549</td>\n",
       "      <td>15.87</td>\n",
       "      <td>6</td>\n",
       "      <td>Monday</td>\n",
       "      <td>5.15</td>\n",
       "    </tr>\n",
       "    <tr>\n",
       "      <th>2</th>\n",
       "      <td>Тема3</td>\n",
       "      <td>Сегмент1</td>\n",
       "      <td>2021-06-11</td>\n",
       "      <td>16:00:00</td>\n",
       "      <td>555455</td>\n",
       "      <td>504</td>\n",
       "      <td>555214</td>\n",
       "      <td>70835</td>\n",
       "      <td>70</td>\n",
       "      <td>3558583</td>\n",
       "      <td>1709</td>\n",
       "      <td>12.76</td>\n",
       "      <td>6</td>\n",
       "      <td>Friday</td>\n",
       "      <td>2.41</td>\n",
       "    </tr>\n",
       "    <tr>\n",
       "      <th>3</th>\n",
       "      <td>Тема4</td>\n",
       "      <td>Сегмент2</td>\n",
       "      <td>2021-06-14</td>\n",
       "      <td>15:00:00</td>\n",
       "      <td>554383</td>\n",
       "      <td>509</td>\n",
       "      <td>554144</td>\n",
       "      <td>74813</td>\n",
       "      <td>75</td>\n",
       "      <td>6207904</td>\n",
       "      <td>2136</td>\n",
       "      <td>13.50</td>\n",
       "      <td>6</td>\n",
       "      <td>Monday</td>\n",
       "      <td>2.86</td>\n",
       "    </tr>\n",
       "    <tr>\n",
       "      <th>4</th>\n",
       "      <td>Тема5</td>\n",
       "      <td>Сегмент1</td>\n",
       "      <td>2021-06-18</td>\n",
       "      <td>16:00:00</td>\n",
       "      <td>552486</td>\n",
       "      <td>435</td>\n",
       "      <td>552281</td>\n",
       "      <td>71378</td>\n",
       "      <td>52</td>\n",
       "      <td>6905844</td>\n",
       "      <td>1635</td>\n",
       "      <td>12.92</td>\n",
       "      <td>6</td>\n",
       "      <td>Friday</td>\n",
       "      <td>2.29</td>\n",
       "    </tr>\n",
       "  </tbody>\n",
       "</table>\n",
       "</div>"
      ],
      "text/plain": [
       "  Тема письма   Сегмент Дата рассылки Время отправки  Отправлено писем  \\\n",
       "0       Тема1  Сегмент1    2021-06-04       15:00:00            561114   \n",
       "1       Тема2  Сегмент1    2021-06-07       17:22:00            557128   \n",
       "2       Тема3  Сегмент1    2021-06-11       16:00:00            555455   \n",
       "3       Тема4  Сегмент2    2021-06-14       15:00:00            554383   \n",
       "4       Тема5  Сегмент1    2021-06-18       16:00:00            552486   \n",
       "\n",
       "   Отписки  Доставлено  Открытий  Заказы   Доход   Кликов  open_rate  month  \\\n",
       "0      440      560873     70321      75  7613776    2274      12.54      6   \n",
       "1      476      556910     88384     209  6907996    4549      15.87      6   \n",
       "2      504      555214     70835      70  3558583    1709      12.76      6   \n",
       "3      509      554144     74813      75  6207904    2136      13.50      6   \n",
       "4      435      552281     71378      52  6905844    1635      12.92      6   \n",
       "\n",
       "  day_of_week  CTOR  \n",
       "0      Friday  3.23  \n",
       "1      Monday  5.15  \n",
       "2      Friday  2.41  \n",
       "3      Monday  2.86  \n",
       "4      Friday  2.29  "
      ]
     },
     "execution_count": 773,
     "metadata": {},
     "output_type": "execute_result"
    }
   ],
   "source": [
    "df.head()"
   ]
  },
  {
   "cell_type": "markdown",
   "id": "08ffe747",
   "metadata": {},
   "source": [
    "### Среднее значение CTOR в месяц"
   ]
  },
  {
   "cell_type": "code",
   "execution_count": 774,
   "id": "92815f4b",
   "metadata": {},
   "outputs": [],
   "source": [
    "_ = pd.pivot_table(df,\n",
    "               index='month',\n",
    "               values='CTOR',\n",
    "                aggfunc ={'mean', 'std'})"
   ]
  },
  {
   "cell_type": "code",
   "execution_count": 775,
   "id": "3bf9080d",
   "metadata": {},
   "outputs": [
    {
     "data": {
      "text/html": [
       "<div>\n",
       "<style scoped>\n",
       "    .dataframe tbody tr th:only-of-type {\n",
       "        vertical-align: middle;\n",
       "    }\n",
       "\n",
       "    .dataframe tbody tr th {\n",
       "        vertical-align: top;\n",
       "    }\n",
       "\n",
       "    .dataframe thead th {\n",
       "        text-align: right;\n",
       "    }\n",
       "</style>\n",
       "<table border=\"1\" class=\"dataframe\">\n",
       "  <thead>\n",
       "    <tr style=\"text-align: right;\">\n",
       "      <th></th>\n",
       "      <th>mean</th>\n",
       "      <th>std</th>\n",
       "    </tr>\n",
       "    <tr>\n",
       "      <th>month</th>\n",
       "      <th></th>\n",
       "      <th></th>\n",
       "    </tr>\n",
       "  </thead>\n",
       "  <tbody>\n",
       "    <tr>\n",
       "      <th>6</th>\n",
       "      <td>3.160000</td>\n",
       "      <td>0.907099</td>\n",
       "    </tr>\n",
       "    <tr>\n",
       "      <th>7</th>\n",
       "      <td>3.844444</td>\n",
       "      <td>1.305451</td>\n",
       "    </tr>\n",
       "    <tr>\n",
       "      <th>8</th>\n",
       "      <td>3.056667</td>\n",
       "      <td>0.549136</td>\n",
       "    </tr>\n",
       "    <tr>\n",
       "      <th>9</th>\n",
       "      <td>2.767500</td>\n",
       "      <td>0.399240</td>\n",
       "    </tr>\n",
       "    <tr>\n",
       "      <th>10</th>\n",
       "      <td>3.038750</td>\n",
       "      <td>1.372427</td>\n",
       "    </tr>\n",
       "  </tbody>\n",
       "</table>\n",
       "</div>"
      ],
      "text/plain": [
       "           mean       std\n",
       "month                    \n",
       "6      3.160000  0.907099\n",
       "7      3.844444  1.305451\n",
       "8      3.056667  0.549136\n",
       "9      2.767500  0.399240\n",
       "10     3.038750  1.372427"
      ]
     },
     "execution_count": 775,
     "metadata": {},
     "output_type": "execute_result"
    }
   ],
   "source": [
    "_"
   ]
  },
  {
   "cell_type": "markdown",
   "id": "c29fa8d5",
   "metadata": {},
   "source": [
    "### График click to open rate"
   ]
  },
  {
   "cell_type": "code",
   "execution_count": 776,
   "id": "a3fc144a",
   "metadata": {},
   "outputs": [
    {
     "data": {
      "image/png": "[encoded data removed]",
      "text/plain": [
       "<Figure size 720x360 with 1 Axes>"
      ]
     },
     "metadata": {
      "needs_background": "light"
     },
     "output_type": "display_data"
    }
   ],
   "source": [
    "plt.subplots(figsize=(10, 5))\n",
    "plt.plot (df['Дата рассылки'], df['CTOR'], '-ro')\n",
    "plt.title(\"Динамика click to open rate\")\n",
    "plt.xlabel(\"Дата\")\n",
    "plt.ylabel(\"click to open rate, %\")\n",
    "plt.show()"
   ]
  },
  {
   "cell_type": "markdown",
   "id": "67ba764d",
   "metadata": {},
   "source": [
    "### Значения без выбросов"
   ]
  },
  {
   "cell_type": "code",
   "execution_count": 777,
   "id": "c049f70f",
   "metadata": {},
   "outputs": [],
   "source": [
    "df_ = df[df['CTOR'] < 5]"
   ]
  },
  {
   "cell_type": "code",
   "execution_count": 778,
   "id": "4170d5db",
   "metadata": {},
   "outputs": [],
   "source": [
    "_ = pd.pivot_table(df_,\n",
    "               index='month',\n",
    "               values='CTOR',\n",
    "                aggfunc ={'mean', 'std'})"
   ]
  },
  {
   "cell_type": "code",
   "execution_count": 779,
   "id": "df7b3cce",
   "metadata": {},
   "outputs": [
    {
     "data": {
      "text/html": [
       "<div>\n",
       "<style scoped>\n",
       "    .dataframe tbody tr th:only-of-type {\n",
       "        vertical-align: middle;\n",
       "    }\n",
       "\n",
       "    .dataframe tbody tr th {\n",
       "        vertical-align: top;\n",
       "    }\n",
       "\n",
       "    .dataframe thead th {\n",
       "        text-align: right;\n",
       "    }\n",
       "</style>\n",
       "<table border=\"1\" class=\"dataframe\">\n",
       "  <thead>\n",
       "    <tr style=\"text-align: right;\">\n",
       "      <th></th>\n",
       "      <th>mean</th>\n",
       "      <th>std</th>\n",
       "    </tr>\n",
       "    <tr>\n",
       "      <th>month</th>\n",
       "      <th></th>\n",
       "      <th></th>\n",
       "    </tr>\n",
       "  </thead>\n",
       "  <tbody>\n",
       "    <tr>\n",
       "      <th>6</th>\n",
       "      <td>2.875714</td>\n",
       "      <td>0.453500</td>\n",
       "    </tr>\n",
       "    <tr>\n",
       "      <th>7</th>\n",
       "      <td>3.201429</td>\n",
       "      <td>0.318351</td>\n",
       "    </tr>\n",
       "    <tr>\n",
       "      <th>8</th>\n",
       "      <td>3.056667</td>\n",
       "      <td>0.549136</td>\n",
       "    </tr>\n",
       "    <tr>\n",
       "      <th>9</th>\n",
       "      <td>2.767500</td>\n",
       "      <td>0.399240</td>\n",
       "    </tr>\n",
       "    <tr>\n",
       "      <th>10</th>\n",
       "      <td>2.640000</td>\n",
       "      <td>0.844670</td>\n",
       "    </tr>\n",
       "  </tbody>\n",
       "</table>\n",
       "</div>"
      ],
      "text/plain": [
       "           mean       std\n",
       "month                    \n",
       "6      2.875714  0.453500\n",
       "7      3.201429  0.318351\n",
       "8      3.056667  0.549136\n",
       "9      2.767500  0.399240\n",
       "10     2.640000  0.844670"
      ]
     },
     "execution_count": 779,
     "metadata": {},
     "output_type": "execute_result"
    }
   ],
   "source": [
    "_"
   ]
  },
  {
   "cell_type": "code",
   "execution_count": 780,
   "id": "e579f200",
   "metadata": {},
   "outputs": [
    {
     "data": {
      "text/plain": [
       "mean    3.04\n",
       "std     0.44\n",
       "dtype: float64"
      ]
     },
     "execution_count": 780,
     "metadata": {},
     "output_type": "execute_result"
    }
   ],
   "source": [
    "round(_.head(3).mean(),2)"
   ]
  },
  {
   "cell_type": "markdown",
   "id": "c36151cb",
   "metadata": {},
   "source": [
    "### График click to open rate без выбросов"
   ]
  },
  {
   "cell_type": "code",
   "execution_count": 781,
   "id": "6a79ac8e",
   "metadata": {},
   "outputs": [
    {
     "data": {
      "image/png": "[encoded data removed]",
      "text/plain": [
       "<Figure size 720x360 with 1 Axes>"
      ]
     },
     "metadata": {
      "needs_background": "light"
     },
     "output_type": "display_data"
    }
   ],
   "source": [
    "plt.subplots(figsize=(10, 5))\n",
    "plt.plot (df_['Дата рассылки'], df_['CTOR'], '-ro')\n",
    "plt.title(\"Динамика click to open rate\")\n",
    "plt.xlabel(\"Дата\")\n",
    "plt.ylabel(\"click to open rate, %\")\n",
    "plt.show()"
   ]
  },
  {
   "cell_type": "code",
   "execution_count": 782,
   "id": "4fb3559e",
   "metadata": {},
   "outputs": [
    {
     "data": {
      "image/png": "[encoded data removed]",
      "text/plain": [
       "<Figure size 720x360 with 1 Axes>"
      ]
     },
     "metadata": {
      "needs_background": "light"
     },
     "output_type": "display_data"
    }
   ],
   "source": [
    "plt.subplots(figsize=(10, 5))\n",
    "plt.plot (['6','7','8','9','10'], list(_['mean']), '-ro')\n",
    "plt.title(\"Динамика click to open rate по месяцам\")\n",
    "plt.xlabel(\"Дата\")\n",
    "plt.ylabel(\"click to open rate, %\")\n",
    "plt.show()"
   ]
  },
  {
   "cell_type": "markdown",
   "id": "0e549318",
   "metadata": {},
   "source": [
    "### Вывод "
   ]
  },
  {
   "cell_type": "markdown",
   "id": "f0142de6",
   "metadata": {},
   "source": [
    "Цифры показывают, что показатель остается стабильным от месяца к месяцу, но существенно может отличаться стандартное отклонение.\n",
    "\n",
    "На графике отчетливо видны выбросы. \n",
    "\n",
    "После удаления выбросов, расчетов среднего значения и построения графика можно говорить, что данная метрика показывает своё медленное ухудшение от месяца к месяцу, несмотря на увеличение показателя open rate.\n",
    "\n",
    "- С **3.04 %** (среднее значение 06.2021 - 08.2021) до **2.77 %** в сентябре. **Уменьшение** показателя составило **0.27 %**.\n",
    "- С **2.77 %** до **2.64 %** в октябре. **Уменьшение** показателя составило **0.13 %** по сравнению с сентябрем и 0.4 % по сравнению с летними месяцами.\n",
    "\n",
    "Клиенты стали чаще открывать письма, но данное действие не конвертируется в переход по ссылке или иному целевому действии."
   ]
  },
  {
   "cell_type": "markdown",
   "id": "fb7ce0fa",
   "metadata": {},
   "source": [
    "## Динамика conversion rate"
   ]
  },
  {
   "cell_type": "markdown",
   "id": "0d7b3c13",
   "metadata": {},
   "source": [
    "### Расчет"
   ]
  },
  {
   "cell_type": "code",
   "execution_count": 783,
   "id": "0d6162d2",
   "metadata": {},
   "outputs": [],
   "source": [
    "df['CR'] = round(df['Заказы'] / df['Кликов'] * 100,2)"
   ]
  },
  {
   "cell_type": "code",
   "execution_count": 784,
   "id": "58f070e0",
   "metadata": {},
   "outputs": [
    {
     "data": {
      "text/html": [
       "<div>\n",
       "<style scoped>\n",
       "    .dataframe tbody tr th:only-of-type {\n",
       "        vertical-align: middle;\n",
       "    }\n",
       "\n",
       "    .dataframe tbody tr th {\n",
       "        vertical-align: top;\n",
       "    }\n",
       "\n",
       "    .dataframe thead th {\n",
       "        text-align: right;\n",
       "    }\n",
       "</style>\n",
       "<table border=\"1\" class=\"dataframe\">\n",
       "  <thead>\n",
       "    <tr style=\"text-align: right;\">\n",
       "      <th></th>\n",
       "      <th>Тема письма</th>\n",
       "      <th>Сегмент</th>\n",
       "      <th>Дата рассылки</th>\n",
       "      <th>Время отправки</th>\n",
       "      <th>Отправлено писем</th>\n",
       "      <th>Отписки</th>\n",
       "      <th>Доставлено</th>\n",
       "      <th>Открытий</th>\n",
       "      <th>Заказы</th>\n",
       "      <th>Доход</th>\n",
       "      <th>Кликов</th>\n",
       "      <th>open_rate</th>\n",
       "      <th>month</th>\n",
       "      <th>day_of_week</th>\n",
       "      <th>CTOR</th>\n",
       "      <th>CR</th>\n",
       "    </tr>\n",
       "  </thead>\n",
       "  <tbody>\n",
       "    <tr>\n",
       "      <th>0</th>\n",
       "      <td>Тема1</td>\n",
       "      <td>Сегмент1</td>\n",
       "      <td>2021-06-04</td>\n",
       "      <td>15:00:00</td>\n",
       "      <td>561114</td>\n",
       "      <td>440</td>\n",
       "      <td>560873</td>\n",
       "      <td>70321</td>\n",
       "      <td>75</td>\n",
       "      <td>7613776</td>\n",
       "      <td>2274</td>\n",
       "      <td>12.54</td>\n",
       "      <td>6</td>\n",
       "      <td>Friday</td>\n",
       "      <td>3.23</td>\n",
       "      <td>3.30</td>\n",
       "    </tr>\n",
       "    <tr>\n",
       "      <th>1</th>\n",
       "      <td>Тема2</td>\n",
       "      <td>Сегмент1</td>\n",
       "      <td>2021-06-07</td>\n",
       "      <td>17:22:00</td>\n",
       "      <td>557128</td>\n",
       "      <td>476</td>\n",
       "      <td>556910</td>\n",
       "      <td>88384</td>\n",
       "      <td>209</td>\n",
       "      <td>6907996</td>\n",
       "      <td>4549</td>\n",
       "      <td>15.87</td>\n",
       "      <td>6</td>\n",
       "      <td>Monday</td>\n",
       "      <td>5.15</td>\n",
       "      <td>4.59</td>\n",
       "    </tr>\n",
       "    <tr>\n",
       "      <th>2</th>\n",
       "      <td>Тема3</td>\n",
       "      <td>Сегмент1</td>\n",
       "      <td>2021-06-11</td>\n",
       "      <td>16:00:00</td>\n",
       "      <td>555455</td>\n",
       "      <td>504</td>\n",
       "      <td>555214</td>\n",
       "      <td>70835</td>\n",
       "      <td>70</td>\n",
       "      <td>3558583</td>\n",
       "      <td>1709</td>\n",
       "      <td>12.76</td>\n",
       "      <td>6</td>\n",
       "      <td>Friday</td>\n",
       "      <td>2.41</td>\n",
       "      <td>4.10</td>\n",
       "    </tr>\n",
       "    <tr>\n",
       "      <th>3</th>\n",
       "      <td>Тема4</td>\n",
       "      <td>Сегмент2</td>\n",
       "      <td>2021-06-14</td>\n",
       "      <td>15:00:00</td>\n",
       "      <td>554383</td>\n",
       "      <td>509</td>\n",
       "      <td>554144</td>\n",
       "      <td>74813</td>\n",
       "      <td>75</td>\n",
       "      <td>6207904</td>\n",
       "      <td>2136</td>\n",
       "      <td>13.50</td>\n",
       "      <td>6</td>\n",
       "      <td>Monday</td>\n",
       "      <td>2.86</td>\n",
       "      <td>3.51</td>\n",
       "    </tr>\n",
       "    <tr>\n",
       "      <th>4</th>\n",
       "      <td>Тема5</td>\n",
       "      <td>Сегмент1</td>\n",
       "      <td>2021-06-18</td>\n",
       "      <td>16:00:00</td>\n",
       "      <td>552486</td>\n",
       "      <td>435</td>\n",
       "      <td>552281</td>\n",
       "      <td>71378</td>\n",
       "      <td>52</td>\n",
       "      <td>6905844</td>\n",
       "      <td>1635</td>\n",
       "      <td>12.92</td>\n",
       "      <td>6</td>\n",
       "      <td>Friday</td>\n",
       "      <td>2.29</td>\n",
       "      <td>3.18</td>\n",
       "    </tr>\n",
       "  </tbody>\n",
       "</table>\n",
       "</div>"
      ],
      "text/plain": [
       "  Тема письма   Сегмент Дата рассылки Время отправки  Отправлено писем  \\\n",
       "0       Тема1  Сегмент1    2021-06-04       15:00:00            561114   \n",
       "1       Тема2  Сегмент1    2021-06-07       17:22:00            557128   \n",
       "2       Тема3  Сегмент1    2021-06-11       16:00:00            555455   \n",
       "3       Тема4  Сегмент2    2021-06-14       15:00:00            554383   \n",
       "4       Тема5  Сегмент1    2021-06-18       16:00:00            552486   \n",
       "\n",
       "   Отписки  Доставлено  Открытий  Заказы   Доход   Кликов  open_rate  month  \\\n",
       "0      440      560873     70321      75  7613776    2274      12.54      6   \n",
       "1      476      556910     88384     209  6907996    4549      15.87      6   \n",
       "2      504      555214     70835      70  3558583    1709      12.76      6   \n",
       "3      509      554144     74813      75  6207904    2136      13.50      6   \n",
       "4      435      552281     71378      52  6905844    1635      12.92      6   \n",
       "\n",
       "  day_of_week  CTOR    CR  \n",
       "0      Friday  3.23  3.30  \n",
       "1      Monday  5.15  4.59  \n",
       "2      Friday  2.41  4.10  \n",
       "3      Monday  2.86  3.51  \n",
       "4      Friday  2.29  3.18  "
      ]
     },
     "execution_count": 784,
     "metadata": {},
     "output_type": "execute_result"
    }
   ],
   "source": [
    "df.head()"
   ]
  },
  {
   "cell_type": "markdown",
   "id": "1518b7d5",
   "metadata": {},
   "source": [
    "### Среднее значение conversion rate в месяц"
   ]
  },
  {
   "cell_type": "code",
   "execution_count": 785,
   "id": "01c7c452",
   "metadata": {},
   "outputs": [],
   "source": [
    "_ = pd.pivot_table(df, \n",
    "               index='month',\n",
    "               values='CR',\n",
    "                aggfunc ={'mean', 'std'})"
   ]
  },
  {
   "cell_type": "code",
   "execution_count": 786,
   "id": "21f1dae2",
   "metadata": {},
   "outputs": [
    {
     "data": {
      "text/html": [
       "<div>\n",
       "<style scoped>\n",
       "    .dataframe tbody tr th:only-of-type {\n",
       "        vertical-align: middle;\n",
       "    }\n",
       "\n",
       "    .dataframe tbody tr th {\n",
       "        vertical-align: top;\n",
       "    }\n",
       "\n",
       "    .dataframe thead th {\n",
       "        text-align: right;\n",
       "    }\n",
       "</style>\n",
       "<table border=\"1\" class=\"dataframe\">\n",
       "  <thead>\n",
       "    <tr style=\"text-align: right;\">\n",
       "      <th></th>\n",
       "      <th>mean</th>\n",
       "      <th>std</th>\n",
       "    </tr>\n",
       "    <tr>\n",
       "      <th>month</th>\n",
       "      <th></th>\n",
       "      <th></th>\n",
       "    </tr>\n",
       "  </thead>\n",
       "  <tbody>\n",
       "    <tr>\n",
       "      <th>6</th>\n",
       "      <td>4.225000</td>\n",
       "      <td>0.905207</td>\n",
       "    </tr>\n",
       "    <tr>\n",
       "      <th>7</th>\n",
       "      <td>4.560000</td>\n",
       "      <td>0.888679</td>\n",
       "    </tr>\n",
       "    <tr>\n",
       "      <th>8</th>\n",
       "      <td>4.791111</td>\n",
       "      <td>0.664425</td>\n",
       "    </tr>\n",
       "    <tr>\n",
       "      <th>9</th>\n",
       "      <td>4.516250</td>\n",
       "      <td>0.764833</td>\n",
       "    </tr>\n",
       "    <tr>\n",
       "      <th>10</th>\n",
       "      <td>3.826250</td>\n",
       "      <td>0.818010</td>\n",
       "    </tr>\n",
       "  </tbody>\n",
       "</table>\n",
       "</div>"
      ],
      "text/plain": [
       "           mean       std\n",
       "month                    \n",
       "6      4.225000  0.905207\n",
       "7      4.560000  0.888679\n",
       "8      4.791111  0.664425\n",
       "9      4.516250  0.764833\n",
       "10     3.826250  0.818010"
      ]
     },
     "execution_count": 786,
     "metadata": {},
     "output_type": "execute_result"
    }
   ],
   "source": [
    "_"
   ]
  },
  {
   "cell_type": "code",
   "execution_count": 787,
   "id": "533037c3",
   "metadata": {},
   "outputs": [
    {
     "data": {
      "text/plain": [
       "mean    4.383722\n",
       "std     0.808231\n",
       "dtype: float64"
      ]
     },
     "execution_count": 787,
     "metadata": {},
     "output_type": "execute_result"
    }
   ],
   "source": [
    "_.mean()"
   ]
  },
  {
   "cell_type": "markdown",
   "id": "3beaacd7",
   "metadata": {},
   "source": [
    "### График conversion rate"
   ]
  },
  {
   "cell_type": "code",
   "execution_count": 788,
   "id": "b62c8cb3",
   "metadata": {},
   "outputs": [
    {
     "data": {
      "image/png": "[encoded data removed]",
      "text/plain": [
       "<Figure size 720x360 with 1 Axes>"
      ]
     },
     "metadata": {
      "needs_background": "light"
     },
     "output_type": "display_data"
    }
   ],
   "source": [
    "x = [_['mean'].mean()]\n",
    "plt.subplots(figsize=(10, 5))\n",
    "plt.plot (df['Дата рассылки'], df['CR'], '-ro')\n",
    "plt.plot(df['Дата рассылки'],x * 42, linestyle='-')\n",
    "plt.title(\"Динамика conversion rate\")\n",
    "plt.xlabel(\"Дата\")\n",
    "plt.ylabel(\"conversion rate, %\")\n",
    "plt.show()"
   ]
  },
  {
   "cell_type": "markdown",
   "id": "9010f14f",
   "metadata": {},
   "source": [
    "### Вывод "
   ]
  },
  {
   "cell_type": "markdown",
   "id": "7c0eee53",
   "metadata": {},
   "source": [
    "Conversion rate является устойчивым. **Стандартное отклонение** и **значение** в среднем **не меняются** от месяца к месяцу. Показатель колеблется вокруг среднего значения, которое равняется 4.4."
   ]
  },
  {
   "cell_type": "markdown",
   "id": "fc0883d6",
   "metadata": {},
   "source": [
    "## Динамика AOV"
   ]
  },
  {
   "cell_type": "markdown",
   "id": "1214e311",
   "metadata": {},
   "source": [
    "### Расчет"
   ]
  },
  {
   "cell_type": "code",
   "execution_count": 789,
   "id": "0526eda8",
   "metadata": {},
   "outputs": [],
   "source": [
    "df['AOV'] = df['Доход '] / df['Заказы']"
   ]
  },
  {
   "cell_type": "code",
   "execution_count": 790,
   "id": "dffb18e9",
   "metadata": {},
   "outputs": [
    {
     "data": {
      "text/html": [
       "<div>\n",
       "<style scoped>\n",
       "    .dataframe tbody tr th:only-of-type {\n",
       "        vertical-align: middle;\n",
       "    }\n",
       "\n",
       "    .dataframe tbody tr th {\n",
       "        vertical-align: top;\n",
       "    }\n",
       "\n",
       "    .dataframe thead th {\n",
       "        text-align: right;\n",
       "    }\n",
       "</style>\n",
       "<table border=\"1\" class=\"dataframe\">\n",
       "  <thead>\n",
       "    <tr style=\"text-align: right;\">\n",
       "      <th></th>\n",
       "      <th>Тема письма</th>\n",
       "      <th>Сегмент</th>\n",
       "      <th>Дата рассылки</th>\n",
       "      <th>Время отправки</th>\n",
       "      <th>Отправлено писем</th>\n",
       "      <th>Отписки</th>\n",
       "      <th>Доставлено</th>\n",
       "      <th>Открытий</th>\n",
       "      <th>Заказы</th>\n",
       "      <th>Доход</th>\n",
       "      <th>Кликов</th>\n",
       "      <th>open_rate</th>\n",
       "      <th>month</th>\n",
       "      <th>day_of_week</th>\n",
       "      <th>CTOR</th>\n",
       "      <th>CR</th>\n",
       "      <th>AOV</th>\n",
       "    </tr>\n",
       "  </thead>\n",
       "  <tbody>\n",
       "    <tr>\n",
       "      <th>0</th>\n",
       "      <td>Тема1</td>\n",
       "      <td>Сегмент1</td>\n",
       "      <td>2021-06-04</td>\n",
       "      <td>15:00:00</td>\n",
       "      <td>561114</td>\n",
       "      <td>440</td>\n",
       "      <td>560873</td>\n",
       "      <td>70321</td>\n",
       "      <td>75</td>\n",
       "      <td>7613776</td>\n",
       "      <td>2274</td>\n",
       "      <td>12.54</td>\n",
       "      <td>6</td>\n",
       "      <td>Friday</td>\n",
       "      <td>3.23</td>\n",
       "      <td>3.30</td>\n",
       "      <td>101517.013333</td>\n",
       "    </tr>\n",
       "    <tr>\n",
       "      <th>1</th>\n",
       "      <td>Тема2</td>\n",
       "      <td>Сегмент1</td>\n",
       "      <td>2021-06-07</td>\n",
       "      <td>17:22:00</td>\n",
       "      <td>557128</td>\n",
       "      <td>476</td>\n",
       "      <td>556910</td>\n",
       "      <td>88384</td>\n",
       "      <td>209</td>\n",
       "      <td>6907996</td>\n",
       "      <td>4549</td>\n",
       "      <td>15.87</td>\n",
       "      <td>6</td>\n",
       "      <td>Monday</td>\n",
       "      <td>5.15</td>\n",
       "      <td>4.59</td>\n",
       "      <td>33052.612440</td>\n",
       "    </tr>\n",
       "    <tr>\n",
       "      <th>2</th>\n",
       "      <td>Тема3</td>\n",
       "      <td>Сегмент1</td>\n",
       "      <td>2021-06-11</td>\n",
       "      <td>16:00:00</td>\n",
       "      <td>555455</td>\n",
       "      <td>504</td>\n",
       "      <td>555214</td>\n",
       "      <td>70835</td>\n",
       "      <td>70</td>\n",
       "      <td>3558583</td>\n",
       "      <td>1709</td>\n",
       "      <td>12.76</td>\n",
       "      <td>6</td>\n",
       "      <td>Friday</td>\n",
       "      <td>2.41</td>\n",
       "      <td>4.10</td>\n",
       "      <td>50836.900000</td>\n",
       "    </tr>\n",
       "    <tr>\n",
       "      <th>3</th>\n",
       "      <td>Тема4</td>\n",
       "      <td>Сегмент2</td>\n",
       "      <td>2021-06-14</td>\n",
       "      <td>15:00:00</td>\n",
       "      <td>554383</td>\n",
       "      <td>509</td>\n",
       "      <td>554144</td>\n",
       "      <td>74813</td>\n",
       "      <td>75</td>\n",
       "      <td>6207904</td>\n",
       "      <td>2136</td>\n",
       "      <td>13.50</td>\n",
       "      <td>6</td>\n",
       "      <td>Monday</td>\n",
       "      <td>2.86</td>\n",
       "      <td>3.51</td>\n",
       "      <td>82772.053333</td>\n",
       "    </tr>\n",
       "    <tr>\n",
       "      <th>4</th>\n",
       "      <td>Тема5</td>\n",
       "      <td>Сегмент1</td>\n",
       "      <td>2021-06-18</td>\n",
       "      <td>16:00:00</td>\n",
       "      <td>552486</td>\n",
       "      <td>435</td>\n",
       "      <td>552281</td>\n",
       "      <td>71378</td>\n",
       "      <td>52</td>\n",
       "      <td>6905844</td>\n",
       "      <td>1635</td>\n",
       "      <td>12.92</td>\n",
       "      <td>6</td>\n",
       "      <td>Friday</td>\n",
       "      <td>2.29</td>\n",
       "      <td>3.18</td>\n",
       "      <td>132804.692308</td>\n",
       "    </tr>\n",
       "  </tbody>\n",
       "</table>\n",
       "</div>"
      ],
      "text/plain": [
       "  Тема письма   Сегмент Дата рассылки Время отправки  Отправлено писем  \\\n",
       "0       Тема1  Сегмент1    2021-06-04       15:00:00            561114   \n",
       "1       Тема2  Сегмент1    2021-06-07       17:22:00            557128   \n",
       "2       Тема3  Сегмент1    2021-06-11       16:00:00            555455   \n",
       "3       Тема4  Сегмент2    2021-06-14       15:00:00            554383   \n",
       "4       Тема5  Сегмент1    2021-06-18       16:00:00            552486   \n",
       "\n",
       "   Отписки  Доставлено  Открытий  Заказы   Доход   Кликов  open_rate  month  \\\n",
       "0      440      560873     70321      75  7613776    2274      12.54      6   \n",
       "1      476      556910     88384     209  6907996    4549      15.87      6   \n",
       "2      504      555214     70835      70  3558583    1709      12.76      6   \n",
       "3      509      554144     74813      75  6207904    2136      13.50      6   \n",
       "4      435      552281     71378      52  6905844    1635      12.92      6   \n",
       "\n",
       "  day_of_week  CTOR    CR            AOV  \n",
       "0      Friday  3.23  3.30  101517.013333  \n",
       "1      Monday  5.15  4.59   33052.612440  \n",
       "2      Friday  2.41  4.10   50836.900000  \n",
       "3      Monday  2.86  3.51   82772.053333  \n",
       "4      Friday  2.29  3.18  132804.692308  "
      ]
     },
     "execution_count": 790,
     "metadata": {},
     "output_type": "execute_result"
    }
   ],
   "source": [
    "df.head()"
   ]
  },
  {
   "cell_type": "markdown",
   "id": "b5771a97",
   "metadata": {},
   "source": [
    "### Среднее значение average order value в месяц"
   ]
  },
  {
   "cell_type": "code",
   "execution_count": 791,
   "id": "fd326dce",
   "metadata": {},
   "outputs": [],
   "source": [
    "_ = pd.pivot_table(df, \n",
    "               index='month',\n",
    "               values='AOV',\n",
    "                aggfunc ={'mean', 'std'})"
   ]
  },
  {
   "cell_type": "code",
   "execution_count": 792,
   "id": "55ac9a89",
   "metadata": {},
   "outputs": [
    {
     "data": {
      "text/html": [
       "<div>\n",
       "<style scoped>\n",
       "    .dataframe tbody tr th:only-of-type {\n",
       "        vertical-align: middle;\n",
       "    }\n",
       "\n",
       "    .dataframe tbody tr th {\n",
       "        vertical-align: top;\n",
       "    }\n",
       "\n",
       "    .dataframe thead th {\n",
       "        text-align: right;\n",
       "    }\n",
       "</style>\n",
       "<table border=\"1\" class=\"dataframe\">\n",
       "  <thead>\n",
       "    <tr style=\"text-align: right;\">\n",
       "      <th></th>\n",
       "      <th>mean</th>\n",
       "      <th>std</th>\n",
       "    </tr>\n",
       "    <tr>\n",
       "      <th>month</th>\n",
       "      <th></th>\n",
       "      <th></th>\n",
       "    </tr>\n",
       "  </thead>\n",
       "  <tbody>\n",
       "    <tr>\n",
       "      <th>6</th>\n",
       "      <td>72952.151470</td>\n",
       "      <td>32299.702958</td>\n",
       "    </tr>\n",
       "    <tr>\n",
       "      <th>7</th>\n",
       "      <td>51375.206982</td>\n",
       "      <td>19991.389056</td>\n",
       "    </tr>\n",
       "    <tr>\n",
       "      <th>8</th>\n",
       "      <td>62142.536483</td>\n",
       "      <td>14155.306630</td>\n",
       "    </tr>\n",
       "    <tr>\n",
       "      <th>9</th>\n",
       "      <td>58635.447398</td>\n",
       "      <td>21026.694040</td>\n",
       "    </tr>\n",
       "    <tr>\n",
       "      <th>10</th>\n",
       "      <td>81461.205347</td>\n",
       "      <td>22533.141448</td>\n",
       "    </tr>\n",
       "  </tbody>\n",
       "</table>\n",
       "</div>"
      ],
      "text/plain": [
       "               mean           std\n",
       "month                            \n",
       "6      72952.151470  32299.702958\n",
       "7      51375.206982  19991.389056\n",
       "8      62142.536483  14155.306630\n",
       "9      58635.447398  21026.694040\n",
       "10     81461.205347  22533.141448"
      ]
     },
     "execution_count": 792,
     "metadata": {},
     "output_type": "execute_result"
    }
   ],
   "source": [
    "_"
   ]
  },
  {
   "cell_type": "markdown",
   "id": "4d205bc1",
   "metadata": {},
   "source": [
    "### График average order value"
   ]
  },
  {
   "cell_type": "code",
   "execution_count": 793,
   "id": "9c53f381",
   "metadata": {},
   "outputs": [
    {
     "data": {
      "image/png": "[encoded data removed]",
      "text/plain": [
       "<Figure size 720x360 with 1 Axes>"
      ]
     },
     "metadata": {
      "needs_background": "light"
     },
     "output_type": "display_data"
    }
   ],
   "source": [
    "plt.subplots(figsize=(10, 5))\n",
    "plt.plot (df['Дата рассылки'], df['AOV'], '-ro')\n",
    "plt.title(\"Динамика AOV\")\n",
    "plt.xlabel(\"Дата\")\n",
    "plt.ylabel(\"AOV\")\n",
    "plt.show()"
   ]
  },
  {
   "cell_type": "code",
   "execution_count": 794,
   "id": "b2a551bf",
   "metadata": {},
   "outputs": [
    {
     "data": {
      "image/png": "[encoded data removed]",
      "text/plain": [
       "<Figure size 720x360 with 1 Axes>"
      ]
     },
     "metadata": {
      "needs_background": "light"
     },
     "output_type": "display_data"
    }
   ],
   "source": [
    "plt.subplots(figsize=(10, 5))\n",
    "plt.plot (['6','7','8','9','10'], list(_['mean']), '-ro')\n",
    "plt.title(\"Динамика AOV по месяцам\")\n",
    "plt.xlabel(\"Дата\")\n",
    "plt.ylabel(\"AOV\")\n",
    "plt.show()"
   ]
  },
  {
   "cell_type": "markdown",
   "id": "717b52c6",
   "metadata": {},
   "source": [
    "На дневной динамике видно, что в июне наблюдается отрицательная тенденция и доход более 120000 выглядит выбросом. Будем делать выводы без данного дня."
   ]
  },
  {
   "cell_type": "code",
   "execution_count": 795,
   "id": "6ea8c304",
   "metadata": {},
   "outputs": [],
   "source": [
    "df_ = df[df['AOV'] < 120000]"
   ]
  },
  {
   "cell_type": "code",
   "execution_count": 796,
   "id": "63fef0c5",
   "metadata": {},
   "outputs": [],
   "source": [
    "_ = pd.pivot_table(df_,\n",
    "               index='month',\n",
    "               values='AOV',\n",
    "                aggfunc ={'mean', 'std'})"
   ]
  },
  {
   "cell_type": "code",
   "execution_count": 797,
   "id": "b186b2a9",
   "metadata": {},
   "outputs": [
    {
     "data": {
      "text/html": [
       "<div>\n",
       "<style scoped>\n",
       "    .dataframe tbody tr th:only-of-type {\n",
       "        vertical-align: middle;\n",
       "    }\n",
       "\n",
       "    .dataframe tbody tr th {\n",
       "        vertical-align: top;\n",
       "    }\n",
       "\n",
       "    .dataframe thead th {\n",
       "        text-align: right;\n",
       "    }\n",
       "</style>\n",
       "<table border=\"1\" class=\"dataframe\">\n",
       "  <thead>\n",
       "    <tr style=\"text-align: right;\">\n",
       "      <th></th>\n",
       "      <th>mean</th>\n",
       "      <th>std</th>\n",
       "    </tr>\n",
       "    <tr>\n",
       "      <th>month</th>\n",
       "      <th></th>\n",
       "      <th></th>\n",
       "    </tr>\n",
       "  </thead>\n",
       "  <tbody>\n",
       "    <tr>\n",
       "      <th>6</th>\n",
       "      <td>64401.788493</td>\n",
       "      <td>23125.772363</td>\n",
       "    </tr>\n",
       "    <tr>\n",
       "      <th>7</th>\n",
       "      <td>51375.206982</td>\n",
       "      <td>19991.389056</td>\n",
       "    </tr>\n",
       "    <tr>\n",
       "      <th>8</th>\n",
       "      <td>62142.536483</td>\n",
       "      <td>14155.306630</td>\n",
       "    </tr>\n",
       "    <tr>\n",
       "      <th>9</th>\n",
       "      <td>58635.447398</td>\n",
       "      <td>21026.694040</td>\n",
       "    </tr>\n",
       "    <tr>\n",
       "      <th>10</th>\n",
       "      <td>81461.205347</td>\n",
       "      <td>22533.141448</td>\n",
       "    </tr>\n",
       "  </tbody>\n",
       "</table>\n",
       "</div>"
      ],
      "text/plain": [
       "               mean           std\n",
       "month                            \n",
       "6      64401.788493  23125.772363\n",
       "7      51375.206982  19991.389056\n",
       "8      62142.536483  14155.306630\n",
       "9      58635.447398  21026.694040\n",
       "10     81461.205347  22533.141448"
      ]
     },
     "execution_count": 797,
     "metadata": {},
     "output_type": "execute_result"
    }
   ],
   "source": [
    "_"
   ]
  },
  {
   "cell_type": "code",
   "execution_count": 798,
   "id": "992885db",
   "metadata": {},
   "outputs": [
    {
     "data": {
      "image/png": "[encoded data removed]",
      "text/plain": [
       "<Figure size 720x360 with 1 Axes>"
      ]
     },
     "metadata": {
      "needs_background": "light"
     },
     "output_type": "display_data"
    }
   ],
   "source": [
    "plt.subplots(figsize=(10, 5))\n",
    "plt.plot (['6','7','8','9','10'], list(_['mean']), '-ro')\n",
    "plt.title(\"Динамика AOV по месяцам\")\n",
    "plt.xlabel(\"Дата\")\n",
    "plt.ylabel(\"AOV, %\")\n",
    "plt.show()"
   ]
  },
  {
   "cell_type": "markdown",
   "id": "b9f3c9db",
   "metadata": {},
   "source": [
    "### Вывод"
   ]
  },
  {
   "cell_type": "markdown",
   "id": "b8e35625",
   "metadata": {},
   "source": [
    "Средний чек показывает положительную динамику на данный момент. \n",
    "\n",
    "- С **09.2021** по **10.2021** **прирост** составил **38.93 %**\n",
    "\n",
    "- С минимума (**07.2021**) по **10.2021** **прирост** составил **58.56 %**"
   ]
  },
  {
   "cell_type": "markdown",
   "id": "9c05d6c4",
   "metadata": {},
   "source": [
    "## Топ лучших тем по open rate"
   ]
  },
  {
   "cell_type": "code",
   "execution_count": 799,
   "id": "ba94a0e4",
   "metadata": {},
   "outputs": [
    {
     "data": {
      "text/html": [
       "<div>\n",
       "<style scoped>\n",
       "    .dataframe tbody tr th:only-of-type {\n",
       "        vertical-align: middle;\n",
       "    }\n",
       "\n",
       "    .dataframe tbody tr th {\n",
       "        vertical-align: top;\n",
       "    }\n",
       "\n",
       "    .dataframe thead th {\n",
       "        text-align: right;\n",
       "    }\n",
       "</style>\n",
       "<table border=\"1\" class=\"dataframe\">\n",
       "  <thead>\n",
       "    <tr style=\"text-align: right;\">\n",
       "      <th></th>\n",
       "      <th>Тема письма</th>\n",
       "      <th>Сегмент</th>\n",
       "      <th>Дата рассылки</th>\n",
       "      <th>Время отправки</th>\n",
       "      <th>Отправлено писем</th>\n",
       "      <th>Отписки</th>\n",
       "      <th>Доставлено</th>\n",
       "      <th>Открытий</th>\n",
       "      <th>Заказы</th>\n",
       "      <th>Доход</th>\n",
       "      <th>Кликов</th>\n",
       "      <th>open_rate</th>\n",
       "      <th>month</th>\n",
       "      <th>day_of_week</th>\n",
       "      <th>CTOR</th>\n",
       "      <th>CR</th>\n",
       "      <th>AOV</th>\n",
       "    </tr>\n",
       "  </thead>\n",
       "  <tbody>\n",
       "    <tr>\n",
       "      <th>40</th>\n",
       "      <td>Тема41</td>\n",
       "      <td>Сегмент1</td>\n",
       "      <td>2021-10-25</td>\n",
       "      <td>16:23:00</td>\n",
       "      <td>501074</td>\n",
       "      <td>370</td>\n",
       "      <td>501000</td>\n",
       "      <td>89735</td>\n",
       "      <td>67</td>\n",
       "      <td>6952547</td>\n",
       "      <td>1914</td>\n",
       "      <td>17.91</td>\n",
       "      <td>10</td>\n",
       "      <td>Monday</td>\n",
       "      <td>2.13</td>\n",
       "      <td>3.50</td>\n",
       "      <td>103769.358209</td>\n",
       "    </tr>\n",
       "    <tr>\n",
       "      <th>35</th>\n",
       "      <td>Тема36</td>\n",
       "      <td>Сегмент1</td>\n",
       "      <td>2021-10-04</td>\n",
       "      <td>15:00:00</td>\n",
       "      <td>515005</td>\n",
       "      <td>485</td>\n",
       "      <td>514905</td>\n",
       "      <td>88089</td>\n",
       "      <td>63</td>\n",
       "      <td>5506008</td>\n",
       "      <td>1804</td>\n",
       "      <td>17.11</td>\n",
       "      <td>10</td>\n",
       "      <td>Monday</td>\n",
       "      <td>2.05</td>\n",
       "      <td>3.49</td>\n",
       "      <td>87396.952381</td>\n",
       "    </tr>\n",
       "    <tr>\n",
       "      <th>39</th>\n",
       "      <td>Тема40</td>\n",
       "      <td>Сегмент1</td>\n",
       "      <td>2021-10-22</td>\n",
       "      <td>16:00:00</td>\n",
       "      <td>500265</td>\n",
       "      <td>319</td>\n",
       "      <td>500178</td>\n",
       "      <td>85299</td>\n",
       "      <td>85</td>\n",
       "      <td>8451115</td>\n",
       "      <td>2308</td>\n",
       "      <td>17.05</td>\n",
       "      <td>10</td>\n",
       "      <td>Friday</td>\n",
       "      <td>2.71</td>\n",
       "      <td>3.68</td>\n",
       "      <td>99424.882353</td>\n",
       "    </tr>\n",
       "    <tr>\n",
       "      <th>37</th>\n",
       "      <td>Тема38</td>\n",
       "      <td>Сегмент1</td>\n",
       "      <td>2021-10-15</td>\n",
       "      <td>16:00:00</td>\n",
       "      <td>504701</td>\n",
       "      <td>430</td>\n",
       "      <td>504594</td>\n",
       "      <td>85727</td>\n",
       "      <td>170</td>\n",
       "      <td>7660856</td>\n",
       "      <td>4996</td>\n",
       "      <td>16.99</td>\n",
       "      <td>10</td>\n",
       "      <td>Friday</td>\n",
       "      <td>5.83</td>\n",
       "      <td>3.40</td>\n",
       "      <td>45063.858824</td>\n",
       "    </tr>\n",
       "    <tr>\n",
       "      <th>41</th>\n",
       "      <td>Тема42</td>\n",
       "      <td>Сегмент1</td>\n",
       "      <td>2021-10-29</td>\n",
       "      <td>15:00:00</td>\n",
       "      <td>496873</td>\n",
       "      <td>336</td>\n",
       "      <td>496796</td>\n",
       "      <td>84335</td>\n",
       "      <td>132</td>\n",
       "      <td>9701772</td>\n",
       "      <td>3660</td>\n",
       "      <td>16.98</td>\n",
       "      <td>10</td>\n",
       "      <td>Friday</td>\n",
       "      <td>4.34</td>\n",
       "      <td>3.61</td>\n",
       "      <td>73498.272727</td>\n",
       "    </tr>\n",
       "  </tbody>\n",
       "</table>\n",
       "</div>"
      ],
      "text/plain": [
       "   Тема письма   Сегмент Дата рассылки Время отправки  Отправлено писем  \\\n",
       "40      Тема41  Сегмент1    2021-10-25       16:23:00            501074   \n",
       "35      Тема36  Сегмент1    2021-10-04       15:00:00            515005   \n",
       "39      Тема40  Сегмент1    2021-10-22       16:00:00            500265   \n",
       "37      Тема38  Сегмент1    2021-10-15       16:00:00            504701   \n",
       "41      Тема42  Сегмент1    2021-10-29       15:00:00            496873   \n",
       "\n",
       "    Отписки  Доставлено  Открытий  Заказы   Доход   Кликов  open_rate  month  \\\n",
       "40      370      501000     89735      67  6952547    1914      17.91     10   \n",
       "35      485      514905     88089      63  5506008    1804      17.11     10   \n",
       "39      319      500178     85299      85  8451115    2308      17.05     10   \n",
       "37      430      504594     85727     170  7660856    4996      16.99     10   \n",
       "41      336      496796     84335     132  9701772    3660      16.98     10   \n",
       "\n",
       "   day_of_week  CTOR    CR            AOV  \n",
       "40      Monday  2.13  3.50  103769.358209  \n",
       "35      Monday  2.05  3.49   87396.952381  \n",
       "39      Friday  2.71  3.68   99424.882353  \n",
       "37      Friday  5.83  3.40   45063.858824  \n",
       "41      Friday  4.34  3.61   73498.272727  "
      ]
     },
     "execution_count": 799,
     "metadata": {},
     "output_type": "execute_result"
    }
   ],
   "source": [
    "df.sort_values(by=['open_rate'], ascending=False).head()"
   ]
  },
  {
   "cell_type": "markdown",
   "id": "37619c37",
   "metadata": {},
   "source": [
    "### Вывод"
   ]
  },
  {
   "cell_type": "markdown",
   "id": "c39fc4cd",
   "metadata": {},
   "source": [
    "Самые лучшие темы по open rate - это темы последние. Динамика по увеличению open rate была видна с 08.2021. Нельзя говорить с полной уверенностью, что увеличение open rate произошло за счет тем."
   ]
  },
  {
   "cell_type": "markdown",
   "id": "e09b0d49",
   "metadata": {},
   "source": [
    "## Динамика оттока базы"
   ]
  },
  {
   "cell_type": "code",
   "execution_count": 800,
   "id": "bd808bc4",
   "metadata": {},
   "outputs": [],
   "source": [
    "_ = pd.pivot_table(df, \n",
    "               index='month',\n",
    "               values='Отписки',\n",
    "                aggfunc ={'mean', 'std'})"
   ]
  },
  {
   "cell_type": "code",
   "execution_count": 801,
   "id": "062c57c0",
   "metadata": {},
   "outputs": [
    {
     "data": {
      "text/html": [
       "<div>\n",
       "<style scoped>\n",
       "    .dataframe tbody tr th:only-of-type {\n",
       "        vertical-align: middle;\n",
       "    }\n",
       "\n",
       "    .dataframe tbody tr th {\n",
       "        vertical-align: top;\n",
       "    }\n",
       "\n",
       "    .dataframe thead th {\n",
       "        text-align: right;\n",
       "    }\n",
       "</style>\n",
       "<table border=\"1\" class=\"dataframe\">\n",
       "  <thead>\n",
       "    <tr style=\"text-align: right;\">\n",
       "      <th></th>\n",
       "      <th>mean</th>\n",
       "      <th>std</th>\n",
       "    </tr>\n",
       "    <tr>\n",
       "      <th>month</th>\n",
       "      <th></th>\n",
       "      <th></th>\n",
       "    </tr>\n",
       "  </thead>\n",
       "  <tbody>\n",
       "    <tr>\n",
       "      <th>6</th>\n",
       "      <td>477.250000</td>\n",
       "      <td>35.406819</td>\n",
       "    </tr>\n",
       "    <tr>\n",
       "      <th>7</th>\n",
       "      <td>429.111111</td>\n",
       "      <td>37.001501</td>\n",
       "    </tr>\n",
       "    <tr>\n",
       "      <th>8</th>\n",
       "      <td>406.333333</td>\n",
       "      <td>76.324963</td>\n",
       "    </tr>\n",
       "    <tr>\n",
       "      <th>9</th>\n",
       "      <td>507.875000</td>\n",
       "      <td>108.822841</td>\n",
       "    </tr>\n",
       "    <tr>\n",
       "      <th>10</th>\n",
       "      <td>416.000000</td>\n",
       "      <td>74.052105</td>\n",
       "    </tr>\n",
       "  </tbody>\n",
       "</table>\n",
       "</div>"
      ],
      "text/plain": [
       "             mean         std\n",
       "month                        \n",
       "6      477.250000   35.406819\n",
       "7      429.111111   37.001501\n",
       "8      406.333333   76.324963\n",
       "9      507.875000  108.822841\n",
       "10     416.000000   74.052105"
      ]
     },
     "execution_count": 801,
     "metadata": {},
     "output_type": "execute_result"
    }
   ],
   "source": [
    "_"
   ]
  },
  {
   "cell_type": "code",
   "execution_count": 802,
   "id": "9c29ba00",
   "metadata": {},
   "outputs": [
    {
     "data": {
      "image/png": "[encoded data removed]",
      "text/plain": [
       "<Figure size 720x360 with 1 Axes>"
      ]
     },
     "metadata": {
      "needs_background": "light"
     },
     "output_type": "display_data"
    }
   ],
   "source": [
    "plt.subplots(figsize=(10, 5))\n",
    "plt.plot (df['Дата рассылки'], df['Отписки'], '-ro')\n",
    "plt.title(\"Динамика отписок\")\n",
    "plt.xlabel(\"Дата\")\n",
    "plt.ylabel(\"Отписки\")\n",
    "plt.show()"
   ]
  },
  {
   "cell_type": "code",
   "execution_count": 803,
   "id": "e6bbbddf",
   "metadata": {},
   "outputs": [
    {
     "data": {
      "image/png": "[encoded data removed]",
      "text/plain": [
       "<Figure size 720x360 with 1 Axes>"
      ]
     },
     "metadata": {
      "needs_background": "light"
     },
     "output_type": "display_data"
    }
   ],
   "source": [
    "plt.subplots(figsize=(10, 5))\n",
    "plt.plot (['6','7','8','9','10'], list(_['mean']), '-ro')\n",
    "plt.title(\"Динамика отписок по месяцам\")\n",
    "plt.xlabel(\"Дата\")\n",
    "plt.ylabel(\"Отписки\")\n",
    "plt.show()"
   ]
  },
  {
   "cell_type": "markdown",
   "id": "eeeba3d9",
   "metadata": {},
   "source": [
    "### Вывод "
   ]
  },
  {
   "cell_type": "markdown",
   "id": "a319630f",
   "metadata": {},
   "source": [
    "**06.2021** по **08.2021** отток клиентов в среднем **падал с 477 до 406** клиентов за рассылку. \n",
    "\n",
    "**09.2021** произошел резкий **рост отписок**. \n",
    "\n",
    "**10.2021** значение отписок **вернулось** к значению до **09.2021**. \n",
    "\n",
    "С чем был связан данный всплеск нельзя сказать по одним лишь представленным данным."
   ]
  },
  {
   "cell_type": "markdown",
   "id": "7553f79b",
   "metadata": {},
   "source": [
    "## Лучший день недели для оптравки писем "
   ]
  },
  {
   "cell_type": "markdown",
   "id": "f1cfb49b",
   "metadata": {},
   "source": [
    "Не вполне понятно, что имеет ввиду заказчик под словами \"лучший день\". Уточнить нет возможности, поэтому дам информацию по всем позициям."
   ]
  },
  {
   "cell_type": "code",
   "execution_count": 804,
   "id": "9ed286a7",
   "metadata": {},
   "outputs": [
    {
     "data": {
      "text/plain": [
       "Friday     21\n",
       "Monday     20\n",
       "Tuesday     1\n",
       "Name: day_of_week, dtype: int64"
      ]
     },
     "execution_count": 804,
     "metadata": {},
     "output_type": "execute_result"
    }
   ],
   "source": [
    "df['day_of_week'].value_counts()"
   ]
  },
  {
   "cell_type": "code",
   "execution_count": 805,
   "id": "4cc522df",
   "metadata": {},
   "outputs": [],
   "source": [
    "columns = ['Отписки', 'Открытий', 'Заказы', 'Доход ', 'Кликов']"
   ]
  },
  {
   "cell_type": "code",
   "execution_count": 806,
   "id": "8af337fb",
   "metadata": {},
   "outputs": [
    {
     "name": "stdout",
     "output_type": "stream",
     "text": [
      "\n",
      "\n",
      "Отписки\n"
     ]
    },
    {
     "data": {
      "text/html": [
       "<div>\n",
       "<style scoped>\n",
       "    .dataframe tbody tr th:only-of-type {\n",
       "        vertical-align: middle;\n",
       "    }\n",
       "\n",
       "    .dataframe tbody tr th {\n",
       "        vertical-align: top;\n",
       "    }\n",
       "\n",
       "    .dataframe thead th {\n",
       "        text-align: right;\n",
       "    }\n",
       "</style>\n",
       "<table border=\"1\" class=\"dataframe\">\n",
       "  <thead>\n",
       "    <tr style=\"text-align: right;\">\n",
       "      <th></th>\n",
       "      <th>mean</th>\n",
       "      <th>std</th>\n",
       "    </tr>\n",
       "    <tr>\n",
       "      <th>day_of_week</th>\n",
       "      <th></th>\n",
       "      <th></th>\n",
       "    </tr>\n",
       "  </thead>\n",
       "  <tbody>\n",
       "    <tr>\n",
       "      <th>Friday</th>\n",
       "      <td>415.52381</td>\n",
       "      <td>57.997947</td>\n",
       "    </tr>\n",
       "    <tr>\n",
       "      <th>Monday</th>\n",
       "      <td>475.00000</td>\n",
       "      <td>86.829537</td>\n",
       "    </tr>\n",
       "    <tr>\n",
       "      <th>Tuesday</th>\n",
       "      <td>502.00000</td>\n",
       "      <td>NaN</td>\n",
       "    </tr>\n",
       "  </tbody>\n",
       "</table>\n",
       "</div>"
      ],
      "text/plain": [
       "                  mean        std\n",
       "day_of_week                      \n",
       "Friday       415.52381  57.997947\n",
       "Monday       475.00000  86.829537\n",
       "Tuesday      502.00000        NaN"
      ]
     },
     "metadata": {},
     "output_type": "display_data"
    },
    {
     "name": "stdout",
     "output_type": "stream",
     "text": [
      "11.85 %\n",
      "___________________________________________\n",
      "\n",
      "\n",
      "Открытий\n"
     ]
    },
    {
     "data": {
      "text/html": [
       "<div>\n",
       "<style scoped>\n",
       "    .dataframe tbody tr th:only-of-type {\n",
       "        vertical-align: middle;\n",
       "    }\n",
       "\n",
       "    .dataframe tbody tr th {\n",
       "        vertical-align: top;\n",
       "    }\n",
       "\n",
       "    .dataframe thead th {\n",
       "        text-align: right;\n",
       "    }\n",
       "</style>\n",
       "<table border=\"1\" class=\"dataframe\">\n",
       "  <thead>\n",
       "    <tr style=\"text-align: right;\">\n",
       "      <th></th>\n",
       "      <th>mean</th>\n",
       "      <th>std</th>\n",
       "    </tr>\n",
       "    <tr>\n",
       "      <th>day_of_week</th>\n",
       "      <th></th>\n",
       "      <th></th>\n",
       "    </tr>\n",
       "  </thead>\n",
       "  <tbody>\n",
       "    <tr>\n",
       "      <th>Friday</th>\n",
       "      <td>74213.952381</td>\n",
       "      <td>7715.968471</td>\n",
       "    </tr>\n",
       "    <tr>\n",
       "      <th>Monday</th>\n",
       "      <td>76564.500000</td>\n",
       "      <td>8013.422132</td>\n",
       "    </tr>\n",
       "    <tr>\n",
       "      <th>Tuesday</th>\n",
       "      <td>78377.000000</td>\n",
       "      <td>NaN</td>\n",
       "    </tr>\n",
       "  </tbody>\n",
       "</table>\n",
       "</div>"
      ],
      "text/plain": [
       "                     mean          std\n",
       "day_of_week                           \n",
       "Friday       74213.952381  7715.968471\n",
       "Monday       76564.500000  8013.422132\n",
       "Tuesday      78377.000000          NaN"
      ]
     },
     "metadata": {},
     "output_type": "display_data"
    },
    {
     "name": "stdout",
     "output_type": "stream",
     "text": [
      "3.0 %\n",
      "___________________________________________\n",
      "\n",
      "\n",
      "Заказы\n"
     ]
    },
    {
     "data": {
      "text/html": [
       "<div>\n",
       "<style scoped>\n",
       "    .dataframe tbody tr th:only-of-type {\n",
       "        vertical-align: middle;\n",
       "    }\n",
       "\n",
       "    .dataframe tbody tr th {\n",
       "        vertical-align: top;\n",
       "    }\n",
       "\n",
       "    .dataframe thead th {\n",
       "        text-align: right;\n",
       "    }\n",
       "</style>\n",
       "<table border=\"1\" class=\"dataframe\">\n",
       "  <thead>\n",
       "    <tr style=\"text-align: right;\">\n",
       "      <th></th>\n",
       "      <th>mean</th>\n",
       "      <th>std</th>\n",
       "    </tr>\n",
       "    <tr>\n",
       "      <th>day_of_week</th>\n",
       "      <th></th>\n",
       "      <th></th>\n",
       "    </tr>\n",
       "  </thead>\n",
       "  <tbody>\n",
       "    <tr>\n",
       "      <th>Friday</th>\n",
       "      <td>109.428571</td>\n",
       "      <td>39.782624</td>\n",
       "    </tr>\n",
       "    <tr>\n",
       "      <th>Monday</th>\n",
       "      <td>101.400000</td>\n",
       "      <td>38.134664</td>\n",
       "    </tr>\n",
       "    <tr>\n",
       "      <th>Tuesday</th>\n",
       "      <td>92.000000</td>\n",
       "      <td>NaN</td>\n",
       "    </tr>\n",
       "  </tbody>\n",
       "</table>\n",
       "</div>"
      ],
      "text/plain": [
       "                   mean        std\n",
       "day_of_week                       \n",
       "Friday       109.428571  39.782624\n",
       "Monday       101.400000  38.134664\n",
       "Tuesday       92.000000        NaN"
      ]
     },
     "metadata": {},
     "output_type": "display_data"
    },
    {
     "name": "stdout",
     "output_type": "stream",
     "text": [
      "7.34 %\n",
      "___________________________________________\n",
      "\n",
      "\n",
      "Доход \n"
     ]
    },
    {
     "data": {
      "text/html": [
       "<div>\n",
       "<style scoped>\n",
       "    .dataframe tbody tr th:only-of-type {\n",
       "        vertical-align: middle;\n",
       "    }\n",
       "\n",
       "    .dataframe tbody tr th {\n",
       "        vertical-align: top;\n",
       "    }\n",
       "\n",
       "    .dataframe thead th {\n",
       "        text-align: right;\n",
       "    }\n",
       "</style>\n",
       "<table border=\"1\" class=\"dataframe\">\n",
       "  <thead>\n",
       "    <tr style=\"text-align: right;\">\n",
       "      <th></th>\n",
       "      <th>mean</th>\n",
       "      <th>std</th>\n",
       "    </tr>\n",
       "    <tr>\n",
       "      <th>day_of_week</th>\n",
       "      <th></th>\n",
       "      <th></th>\n",
       "    </tr>\n",
       "  </thead>\n",
       "  <tbody>\n",
       "    <tr>\n",
       "      <th>Friday</th>\n",
       "      <td>6.460812e+06</td>\n",
       "      <td>1.711747e+06</td>\n",
       "    </tr>\n",
       "    <tr>\n",
       "      <th>Monday</th>\n",
       "      <td>5.967754e+06</td>\n",
       "      <td>1.051583e+06</td>\n",
       "    </tr>\n",
       "    <tr>\n",
       "      <th>Tuesday</th>\n",
       "      <td>4.509091e+06</td>\n",
       "      <td>NaN</td>\n",
       "    </tr>\n",
       "  </tbody>\n",
       "</table>\n",
       "</div>"
      ],
      "text/plain": [
       "                     mean           std\n",
       "day_of_week                            \n",
       "Friday       6.460812e+06  1.711747e+06\n",
       "Monday       5.967754e+06  1.051583e+06\n",
       "Tuesday      4.509091e+06           NaN"
      ]
     },
     "metadata": {},
     "output_type": "display_data"
    },
    {
     "name": "stdout",
     "output_type": "stream",
     "text": [
      "7.63 %\n",
      "___________________________________________\n",
      "\n",
      "\n",
      "Кликов\n"
     ]
    },
    {
     "data": {
      "text/html": [
       "<div>\n",
       "<style scoped>\n",
       "    .dataframe tbody tr th:only-of-type {\n",
       "        vertical-align: middle;\n",
       "    }\n",
       "\n",
       "    .dataframe tbody tr th {\n",
       "        vertical-align: top;\n",
       "    }\n",
       "\n",
       "    .dataframe thead th {\n",
       "        text-align: right;\n",
       "    }\n",
       "</style>\n",
       "<table border=\"1\" class=\"dataframe\">\n",
       "  <thead>\n",
       "    <tr style=\"text-align: right;\">\n",
       "      <th></th>\n",
       "      <th>mean</th>\n",
       "      <th>std</th>\n",
       "    </tr>\n",
       "    <tr>\n",
       "      <th>day_of_week</th>\n",
       "      <th></th>\n",
       "      <th></th>\n",
       "    </tr>\n",
       "  </thead>\n",
       "  <tbody>\n",
       "    <tr>\n",
       "      <th>Friday</th>\n",
       "      <td>2594.952381</td>\n",
       "      <td>955.668220</td>\n",
       "    </tr>\n",
       "    <tr>\n",
       "      <th>Monday</th>\n",
       "      <td>2219.450000</td>\n",
       "      <td>643.591851</td>\n",
       "    </tr>\n",
       "    <tr>\n",
       "      <th>Tuesday</th>\n",
       "      <td>1915.000000</td>\n",
       "      <td>NaN</td>\n",
       "    </tr>\n",
       "  </tbody>\n",
       "</table>\n",
       "</div>"
      ],
      "text/plain": [
       "                    mean         std\n",
       "day_of_week                         \n",
       "Friday       2594.952381  955.668220\n",
       "Monday       2219.450000  643.591851\n",
       "Tuesday      1915.000000         NaN"
      ]
     },
     "metadata": {},
     "output_type": "display_data"
    },
    {
     "name": "stdout",
     "output_type": "stream",
     "text": [
      "14.47 %\n",
      "___________________________________________\n"
     ]
    }
   ],
   "source": [
    "for i in columns:\n",
    "    _ = pd.pivot_table(df,\n",
    "               index='day_of_week',\n",
    "               values=i,\n",
    "                aggfunc ={'mean', 'std'})\n",
    "    print('')\n",
    "    print('')\n",
    "    print(i)\n",
    "    display(_)\n",
    "    print(str(round(abs(_['mean'][0] - _['mean'][1])*100/_['mean'].max(),2)) + ' '+'%')\n",
    "    print('___________________________________________')"
   ]
  },
  {
   "cell_type": "markdown",
   "id": "5b92c3af",
   "metadata": {},
   "source": [
    "### Вывод"
   ]
  },
  {
   "cell_type": "markdown",
   "id": "3f337631",
   "metadata": {},
   "source": [
    "Больше всего зависимость от дня недели показывают следующие показатели:\n",
    "\n",
    "- **Среднее количество отписок**. Разница **11.85 %**. В **пятницу** клиенты отписываются в среднем меньше.\n",
    "- **Среднее количество кликов**. Разница **14.47 %**. В **пятницу** клиенты чаще совершают клики (интересующее действие)\n",
    "- **Средний доход**. Разница **7.63 %**. В **пятницу** средняя сумма заказа в среднем больше.\n",
    "- **Среднее количество заказов**. Разница **7.34 %**. В **пятницу** клиенты заказывают в среднем чаще.\n",
    "\n",
    "Можно сделать вывод, что стоит сконцентрироваться и делать рассылку в пятницу. \n",
    "\n",
    "Более точно можно было бы сказать, если бы была дана информация о деятельности компании. Возможно, клиенты в конце недели пытаются удовлетворить свои потребности, которые появились за неделю. В понедельник, после выходных, потребностей меньше. Необходимо больше информации для проверки гипотез."
   ]
  },
  {
   "cell_type": "markdown",
   "id": "44067537",
   "metadata": {},
   "source": [
    "## Резюме"
   ]
  },
  {
   "cell_type": "markdown",
   "id": "5ebb4015",
   "metadata": {},
   "source": [
    "- **open rate** показывает хорошую положительную динамику.\n",
    "- При этом **click to open rate** снижается последние несколько месяцев. \n",
    "- **Conversion rate** остается неизменным. \n",
    "- **Average order value** показывает положительную динамику, особенно с 09.2021 - 10.2021.\n",
    "- **Топ лучших тем по open rate** - это темы последние, но надо учитывать, что положительная динамика по open rate началась с 09.2021\n",
    "- **Динамика оттока базы** показывает снижение количества отписок, но 09.2021 произошел резкий отток, 10.2021 количество отписок вернулось к прежнему уровню. Нельзя говорить о причинах по предоставленным данным. Если исключить сентябрь в качестве выброса, то можно заключить, что количество отписок уменьшалось каждый месяц.\n",
    "- Пятница является **лучшим днем недели для оптравки писем**."
   ]
  },
  {
   "cell_type": "code",
   "execution_count": null,
   "outputs": [],
   "source": [],
   "metadata": {
    "collapsed": false
   }
  }
 ],
 "metadata": {
  "kernelspec": {
   "display_name": "Python 3 (ipykernel)",
   "language": "python",
   "name": "python3"
  },
  "language_info": {
   "codemirror_mode": {
    "name": "ipython",
    "version": 3
   },
   "file_extension": ".py",
   "mimetype": "text/x-python",
   "name": "python",
   "nbconvert_exporter": "python",
   "pygments_lexer": "ipython3",
   "version": "3.9.7"
  }
 },
 "nbformat": 4,
 "nbformat_minor": 5
}
